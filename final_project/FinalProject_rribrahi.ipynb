{
 "cells": [
  {
   "cell_type": "markdown",
   "metadata": {},
   "source": [
    "# COGS 108 - Final Project "
   ]
  },
  {
   "cell_type": "markdown",
   "metadata": {},
   "source": [
    "# Overview"
   ]
  },
  {
   "cell_type": "markdown",
   "metadata": {},
   "source": [
    "The objective of this project was to analyze whether or not adding more recreational facilities would increase or decrease crime in San Diego. I used data that had people's ratings on parks in SD, and crimes committed in the surrounding areas of those parks (I used the zipcodes from both where the crimes were committed and the parks). This data was used to see if the amount of crime with a specific zipcode had any negative relationship with the rating of the parks with the corresponding zipcode. Although the data shows a large amount of crimes committed in areas with the zipcode 92101, I found that there was no relationship that could be determined with respect to the parks ratings. Thus, no conclusive evidence that additional recreational facilities influences crime levels."
   ]
  },
  {
   "cell_type": "markdown",
   "metadata": {},
   "source": [
    "# Name & GitHub ID\n",
    "\n",
    "- Name: Raymond Ibrahim\n",
    "- GitHub Username: rribrahi"
   ]
  },
  {
   "cell_type": "markdown",
   "metadata": {},
   "source": [
    "# Research Question"
   ]
  },
  {
   "cell_type": "markdown",
   "metadata": {},
   "source": [
    "Does the addition of more recreational facilities decrease crime in San Diego? "
   ]
  },
  {
   "cell_type": "markdown",
   "metadata": {},
   "source": [
    "## Background and Prior Work"
   ]
  },
  {
   "cell_type": "markdown",
   "metadata": {},
   "source": [
    "To start this process, the first thing to do is understand San Diego's recreation department and see how many recreational facilities have already been established.The City of San Diego has 57 Recreation Centers, 13 Pools, 7 Skate Parks[1]. The recreational facilities are dispersed widely throughout the city and are \n",
    "\n",
    "The next thing to do is to determine if there has been previous work done to show a decrease in crime rates in areas with more reacreational facilities. The CDC found that parks use is determined by the crime in accosiated areas. A study was done in 2013 in Greensboro, North Carolina, where they administered surveys to different socio-economic households. Each participant in this study liived only a quarter away and was simply asked if they use their parks and for how long. They then analyzed the crime rates within those neighborhoods. The study ultimately found that if there exists high crime in a certain area, park use will decline [2]. CDC also discusses that the crime observered was happening in and around the areas. \n",
    "\n",
    "Although this study is limited in letting us see how additional recreational facilities will promote a decrease in crime, it brings light to the idea that park use might be low in areas with already existing crime. Moreover, it is important to note that additional recreation facilities might foster areas for more crime to take place. In many cities, people see parks as dangerous – magnets for illicit activities like drug dealing and places for criminals to access potential victims who, while engaged in recreation, may be less vigilant about their belongings and personal safety[3].\n",
    "\n",
    "Some sources contend that the relationship between age and crime is high, and that the youth are generally responsible for most of the crime committed in cities [4]. This, however, is only conjecture but may suggest that new recreational facilities, as mentioned previously, may only be places for the youth to conduct criminal activity. \n",
    "\n",
    "\n",
    "\n",
    "All in all, the relationship between crime and parks remains up for debate [3].\n",
    "\n",
    "References (include links):\n",
    "- 1)https://www.sandiego.gov/park-and-recreation/centers\n",
    "- 2)https://www.cdc.gov/pcd/issues/2020/19_0434.htm\n",
    "- 3)https://news.ncsu.edu/2019/06/can-parks-help-fight-crime/\n",
    "- 4)https://en.wikipedia.org/wiki/Crime_drop"
   ]
  },
  {
   "cell_type": "markdown",
   "metadata": {},
   "source": [
    "# Hypothesis\n"
   ]
  },
  {
   "cell_type": "markdown",
   "metadata": {},
   "source": [
    "Considering that recreational facitilies, like parks and other open spaces, allow for more crime to take place and how the use of parks is dtermined by the crime in those associated areas, I predict that the addition of more reacreational facilities will have a greater negative affect on crime in San Diego. New facilities will lead to the potential for future crime to take place."
   ]
  },
  {
   "cell_type": "markdown",
   "metadata": {},
   "source": [
    "# Dataset(s)"
   ]
  },
  {
   "cell_type": "markdown",
   "metadata": {},
   "source": [
    " Dataset 1:\n",
    "- Dataset Name: yelp_SD_parks.csv\n",
    "- Number of observations: 833\n",
    "\n",
    "This dataset is simply a table of all parks in San Diego, the addresses to each park and the yelp ratings (score 1-5, 5 being the highest score. All in all, this data will be useful in finding the location of the parks and the overall ratings of each park. \n",
    "\n",
    "\n",
    "Dataset 1:\n",
    "- Dataset Name: ARJISPublicCrime120920.csv\n",
    "- Number of observations: 15442\n",
    "\n",
    "This dataset is a csv file that shows all crimes that have been committed in San Diego so far in the year of 2020. This file has the location of each crime committed and has the type of crimes committed. \n",
    "\n",
    "I chose these two datasets because I will be able to see where crimes have been committed and if they were committed in close proximity to parks. I will then combine the data to see any relationship between the ratings of parks and crime occurrences. "
   ]
  },
  {
   "cell_type": "markdown",
   "metadata": {},
   "source": [
    "# Setup"
   ]
  },
  {
   "cell_type": "code",
   "execution_count": 203,
   "metadata": {},
   "outputs": [],
   "source": [
    "#imports\n",
    "import numpy as np\n",
    "import pandas as pd\n",
    "import matplotlib.pyplot as plt\n",
    "   \n",
    "import seaborn as sns\n",
    "sns.set()\n",
    "sns.set_context('talk')\n",
    "\n",
    "# Don't display too many rows/cols of DataFrames\n",
    "pd.options.display.max_rows = 7\n",
    "pd.options.display.max_columns = 8\n",
    "\n",
    "#removes decimals\n",
    "pd.set_option('precision', 0)"
   ]
  },
  {
   "cell_type": "code",
   "execution_count": 204,
   "metadata": {},
   "outputs": [],
   "source": [
    "#read data\n",
    "df_yelp = pd.read_csv(\"yelp_SD_parks.csv\")\n",
    "df_crimes = pd.read_csv(\"ARJISPublicCrime120920.csv\")"
   ]
  },
  {
   "cell_type": "markdown",
   "metadata": {},
   "source": [
    "# Data Cleaning"
   ]
  },
  {
   "cell_type": "markdown",
   "metadata": {},
   "source": [
    "-The first step was to simple get rid of the data that was not needed. I decided to drop the columns: url, phone, longitude, latitude, is_closed. I am primarily interested in the ratings and Zipcodes. "
   ]
  },
  {
   "cell_type": "code",
   "execution_count": 205,
   "metadata": {},
   "outputs": [
    {
     "data": {
      "text/html": [
       "<div>\n",
       "<style scoped>\n",
       "    .dataframe tbody tr th:only-of-type {\n",
       "        vertical-align: middle;\n",
       "    }\n",
       "\n",
       "    .dataframe tbody tr th {\n",
       "        vertical-align: top;\n",
       "    }\n",
       "\n",
       "    .dataframe thead th {\n",
       "        text-align: right;\n",
       "    }\n",
       "</style>\n",
       "<table border=\"1\" class=\"dataframe\">\n",
       "  <thead>\n",
       "    <tr style=\"text-align: right;\">\n",
       "      <th></th>\n",
       "      <th>name</th>\n",
       "      <th>rating</th>\n",
       "      <th>review_count</th>\n",
       "      <th>ZipCode</th>\n",
       "    </tr>\n",
       "  </thead>\n",
       "  <tbody>\n",
       "    <tr>\n",
       "      <th>0</th>\n",
       "      <td>Balboa Park</td>\n",
       "      <td>5</td>\n",
       "      <td>2105</td>\n",
       "      <td>92101</td>\n",
       "    </tr>\n",
       "    <tr>\n",
       "      <th>1</th>\n",
       "      <td>Civita Park</td>\n",
       "      <td>4</td>\n",
       "      <td>46</td>\n",
       "      <td>92108</td>\n",
       "    </tr>\n",
       "    <tr>\n",
       "      <th>2</th>\n",
       "      <td>Waterfront Park</td>\n",
       "      <td>4</td>\n",
       "      <td>242</td>\n",
       "      <td>92101</td>\n",
       "    </tr>\n",
       "    <tr>\n",
       "      <th>...</th>\n",
       "      <td>...</td>\n",
       "      <td>...</td>\n",
       "      <td>...</td>\n",
       "      <td>...</td>\n",
       "    </tr>\n",
       "    <tr>\n",
       "      <th>830</th>\n",
       "      <td>Petco Park</td>\n",
       "      <td>4</td>\n",
       "      <td>1667</td>\n",
       "      <td>92101</td>\n",
       "    </tr>\n",
       "    <tr>\n",
       "      <th>831</th>\n",
       "      <td>Ann D. L'Heureux Memorial Dog Park</td>\n",
       "      <td>3</td>\n",
       "      <td>50</td>\n",
       "      <td>92008</td>\n",
       "    </tr>\n",
       "    <tr>\n",
       "      <th>832</th>\n",
       "      <td>Fairbrook Farm</td>\n",
       "      <td>5</td>\n",
       "      <td>1</td>\n",
       "      <td>92028</td>\n",
       "    </tr>\n",
       "  </tbody>\n",
       "</table>\n",
       "<p>833 rows × 4 columns</p>\n",
       "</div>"
      ],
      "text/plain": [
       "                                   name  rating  review_count  ZipCode\n",
       "0                           Balboa Park       5          2105    92101\n",
       "1                           Civita Park       4            46    92108\n",
       "2                       Waterfront Park       4           242    92101\n",
       "..                                  ...     ...           ...      ...\n",
       "830                          Petco Park       4          1667    92101\n",
       "831  Ann D. L'Heureux Memorial Dog Park       3            50    92008\n",
       "832                      Fairbrook Farm       5             1    92028\n",
       "\n",
       "[833 rows x 4 columns]"
      ]
     },
     "execution_count": 205,
     "metadata": {},
     "output_type": "execute_result"
    }
   ],
   "source": [
    "df_yelp = df_yelp.drop(['url','id','phone','longitude','latitude','is_closed'], axis = 1)\n",
    "\n",
    "#\n",
    "df_yelp['ZipCode'] = df_yelp['address'].str[-5:]\n",
    "df_yelp['ZipCode'] = pd.to_numeric(df_yelp['ZipCode'],errors='coerce')\n",
    "df_yelp = df_yelp.drop(['address'], axis = 1)\n",
    "\n",
    "df_yelp"
   ]
  },
  {
   "cell_type": "raw",
   "metadata": {},
   "source": [
    "-The next step was to get rid of the unecessary data in the crimes dataframe. I also renamed the address column in crimes dataframe to match the address column in yelp dataframe."
   ]
  },
  {
   "cell_type": "code",
   "execution_count": 206,
   "metadata": {},
   "outputs": [
    {
     "data": {
      "text/html": [
       "<div>\n",
       "<style scoped>\n",
       "    .dataframe tbody tr th:only-of-type {\n",
       "        vertical-align: middle;\n",
       "    }\n",
       "\n",
       "    .dataframe tbody tr th {\n",
       "        vertical-align: top;\n",
       "    }\n",
       "\n",
       "    .dataframe thead th {\n",
       "        text-align: right;\n",
       "    }\n",
       "</style>\n",
       "<table border=\"1\" class=\"dataframe\">\n",
       "  <thead>\n",
       "    <tr style=\"text-align: right;\">\n",
       "      <th></th>\n",
       "      <th>name</th>\n",
       "      <th>rating</th>\n",
       "      <th>review_count</th>\n",
       "      <th>ZipCode</th>\n",
       "      <th>CM_LEGEND</th>\n",
       "      <th>Charge_Description_Orig</th>\n",
       "      <th>address</th>\n",
       "    </tr>\n",
       "  </thead>\n",
       "  <tbody>\n",
       "    <tr>\n",
       "      <th>0</th>\n",
       "      <td>Balboa Park</td>\n",
       "      <td>5</td>\n",
       "      <td>2105</td>\n",
       "      <td>92101</td>\n",
       "      <td>DRUGS/ALCOHOL VIOLATIONS</td>\n",
       "      <td>OPEN CONTAINER IN PUBLIC PARK</td>\n",
       "      <td>600  BLOCK 02ND AVENUE</td>\n",
       "    </tr>\n",
       "    <tr>\n",
       "      <th>1</th>\n",
       "      <td>Balboa Park</td>\n",
       "      <td>5</td>\n",
       "      <td>2105</td>\n",
       "      <td>92101</td>\n",
       "      <td>DRUGS/ALCOHOL VIOLATIONS</td>\n",
       "      <td>OPEN CONTAINER IN PUBLIC PARK</td>\n",
       "      <td>600  BLOCK 02ND AVENUE</td>\n",
       "    </tr>\n",
       "    <tr>\n",
       "      <th>2</th>\n",
       "      <td>Balboa Park</td>\n",
       "      <td>5</td>\n",
       "      <td>2105</td>\n",
       "      <td>92101</td>\n",
       "      <td>DRUGS/ALCOHOL VIOLATIONS</td>\n",
       "      <td>POSSESS CONTROLLED SUBSTANCE (M)</td>\n",
       "      <td>1100  BLOCK PARK BOULEVARD</td>\n",
       "    </tr>\n",
       "    <tr>\n",
       "      <th>...</th>\n",
       "      <td>...</td>\n",
       "      <td>...</td>\n",
       "      <td>...</td>\n",
       "      <td>...</td>\n",
       "      <td>...</td>\n",
       "      <td>...</td>\n",
       "      <td>...</td>\n",
       "    </tr>\n",
       "    <tr>\n",
       "      <th>1184414</th>\n",
       "      <td>Fairbrook Farm</td>\n",
       "      <td>5</td>\n",
       "      <td>1</td>\n",
       "      <td>92028</td>\n",
       "      <td>DRUGS/ALCOHOL VIOLATIONS</td>\n",
       "      <td>POSSESS CONTROLLED SUBSTANCE (M)</td>\n",
       "      <td>200 W  BLOCK ASH STREET</td>\n",
       "    </tr>\n",
       "    <tr>\n",
       "      <th>1184415</th>\n",
       "      <td>Fairbrook Farm</td>\n",
       "      <td>5</td>\n",
       "      <td>1</td>\n",
       "      <td>92028</td>\n",
       "      <td>VEHICLE BREAK-IN/THEFT</td>\n",
       "      <td>PETTY THEFT(from Veh) (M)</td>\n",
       "      <td>1400  BLOCK FARRAND ROAD</td>\n",
       "    </tr>\n",
       "    <tr>\n",
       "      <th>1184416</th>\n",
       "      <td>Fairbrook Farm</td>\n",
       "      <td>5</td>\n",
       "      <td>1</td>\n",
       "      <td>92028</td>\n",
       "      <td>DRUGS/ALCOHOL VIOLATIONS</td>\n",
       "      <td>POSS OPEN CONTAINER OF ALC IN PUBLIC (I)</td>\n",
       "      <td>100 W  BLOCK ASH STREET</td>\n",
       "    </tr>\n",
       "  </tbody>\n",
       "</table>\n",
       "<p>1184417 rows × 7 columns</p>\n",
       "</div>"
      ],
      "text/plain": [
       "                   name  rating  review_count  ZipCode  \\\n",
       "0           Balboa Park       5          2105    92101   \n",
       "1           Balboa Park       5          2105    92101   \n",
       "2           Balboa Park       5          2105    92101   \n",
       "...                 ...     ...           ...      ...   \n",
       "1184414  Fairbrook Farm       5             1    92028   \n",
       "1184415  Fairbrook Farm       5             1    92028   \n",
       "1184416  Fairbrook Farm       5             1    92028   \n",
       "\n",
       "                        CM_LEGEND                   Charge_Description_Orig  \\\n",
       "0        DRUGS/ALCOHOL VIOLATIONS             OPEN CONTAINER IN PUBLIC PARK   \n",
       "1        DRUGS/ALCOHOL VIOLATIONS             OPEN CONTAINER IN PUBLIC PARK   \n",
       "2        DRUGS/ALCOHOL VIOLATIONS          POSSESS CONTROLLED SUBSTANCE (M)   \n",
       "...                           ...                                       ...   \n",
       "1184414  DRUGS/ALCOHOL VIOLATIONS          POSSESS CONTROLLED SUBSTANCE (M)   \n",
       "1184415    VEHICLE BREAK-IN/THEFT                 PETTY THEFT(from Veh) (M)   \n",
       "1184416  DRUGS/ALCOHOL VIOLATIONS  POSS OPEN CONTAINER OF ALC IN PUBLIC (I)   \n",
       "\n",
       "                            address  \n",
       "0            600  BLOCK 02ND AVENUE  \n",
       "1            600  BLOCK 02ND AVENUE  \n",
       "2        1100  BLOCK PARK BOULEVARD  \n",
       "...                             ...  \n",
       "1184414     200 W  BLOCK ASH STREET  \n",
       "1184415    1400  BLOCK FARRAND ROAD  \n",
       "1184416     100 W  BLOCK ASH STREET  \n",
       "\n",
       "[1184417 rows x 7 columns]"
      ]
     },
     "execution_count": 206,
     "metadata": {},
     "output_type": "execute_result"
    }
   ],
   "source": [
    "#data cleaning\n",
    "df_crimes = df_crimes.drop(['agency','activityDate','community'], axis = 1)\n",
    "df_crimes = df_crimes.rename(columns={'BLOCK_ADDRESS': 'address'})\n",
    "df_crimes\n",
    "\n",
    "#merge the two dataframes on address\n",
    "df = pd.merge(df_yelp, df_crimes, on='ZipCode')\n",
    "df"
   ]
  },
  {
   "cell_type": "markdown",
   "metadata": {},
   "source": [
    "After this final step, the data is nicely organzied into a condensed dataframe that will be used for the EDA and analysis ssection. I was able to take both the dataframes and merge them together with corrensponding zipcodes which will allow me to have the appropriate ratings for the zipcodes. It is also important to iterate that there was no need for extensive data cleaning, like getting rid null values etc., because the dataset used showing the crimes had no null values as well as the yelp dataset. I also got rid of the many columns that could have possible null values. Overall, this data cleaing was simple for our intended pruposes."
   ]
  },
  {
   "cell_type": "markdown",
   "metadata": {},
   "source": [
    "# Data Analysis & Results"
   ]
  },
  {
   "cell_type": "markdown",
   "metadata": {},
   "source": [
    "The next step in the process was to create some visualizations of the dataframes to see any sort of relationship between the zipcodes and the ratings. It is important to note that every single observation has a crime associated with it."
   ]
  },
  {
   "cell_type": "code",
   "execution_count": 207,
   "metadata": {},
   "outputs": [
    {
     "data": {
      "text/plain": [
       "<matplotlib.axes._subplots.AxesSubplot at 0x7f20c7ef2a10>"
      ]
     },
     "execution_count": 207,
     "metadata": {},
     "output_type": "execute_result"
    },
    {
     "data": {
      "image/png": "[encoded data removed]",
      "text/plain": [
       "<Figure size 432x288 with 1 Axes>"
      ]
     },
     "metadata": {},
     "output_type": "display_data"
    }
   ],
   "source": [
    "#graph Zipcode and rating, grouping by the zip code \n",
    "scatt = df.groupby(df['ZipCode'])\n",
    "sns.scatterplot(x = df['rating'], y = df['ZipCode'])"
   ]
  },
  {
   "cell_type": "markdown",
   "metadata": {},
   "source": [
    "I decided to make a basic scatter plot to see any initial dense areas with respect to a particular Zipcode. This graph shows evidence that more ratings were given by yelp users in Zipcodes from 92000- 92100."
   ]
  },
  {
   "cell_type": "markdown",
   "metadata": {},
   "source": [
    "The next step is to make a histogram that shows the frequency of ratings."
   ]
  },
  {
   "cell_type": "code",
   "execution_count": 208,
   "metadata": {},
   "outputs": [
    {
     "data": {
      "text/plain": [
       "4.0146717752278125"
      ]
     },
     "execution_count": 208,
     "metadata": {},
     "output_type": "execute_result"
    },
    {
     "data": {
      "image/png": "[encoded data removed]",
      "text/plain": [
       "<Figure size 432x288 with 1 Axes>"
      ]
     },
     "metadata": {},
     "output_type": "display_data"
    }
   ],
   "source": [
    "#Making the histogram of the ratings\n",
    "ratings_plot = df['rating'].plot.hist(bins = 20)\n",
    "#Finding the mean rating of parks\n",
    "df_mean = df['rating'].mean()\n",
    "df_mean"
   ]
  },
  {
   "cell_type": "markdown",
   "metadata": {},
   "source": [
    "This histogram is key in seeing the amount of positive reviews for the parks in San Diego. We also should note that the mean is about 4.01. We can infer that San Diego has an above average rating for parks despite crimianl activity within the parks surrounding Zipcode.\n",
    "\n",
    "Next we make a histogram of the Zipcodes in San Diego. The reason I am using the zipcodes in this instance is because if we look closely at the merged dataframe, for every zipcode there is an associated crime. This means that for every zipcode counted in the histogram it is also counting a crime that was commited in that zipcode. In summary, a Zipcode equals a crime."
   ]
  },
  {
   "cell_type": "code",
   "execution_count": 209,
   "metadata": {},
   "outputs": [
    {
     "data": {
      "text/plain": [
       "0    92101\n",
       "dtype: float64"
      ]
     },
     "execution_count": 209,
     "metadata": {},
     "output_type": "execute_result"
    },
    {
     "data": {
      "image/png": "[encoded data removed]",
      "text/plain": [
       "<Figure size 432x288 with 1 Axes>"
      ]
     },
     "metadata": {},
     "output_type": "display_data"
    }
   ],
   "source": [
    "#Making the histogram of the Zipcode, which also counts crimes\n",
    "ratings_plot = df['ZipCode'].plot.hist(bins = 20)\n",
    "#Finding the mean number of crimes in parks\n",
    "df_mode = df['ZipCode'].mode()\n",
    "df_mode"
   ]
  },
  {
   "cell_type": "markdown",
   "metadata": {},
   "source": [
    "The above histogram shows a large concentration of crimes being committed in the 92000's through the 92100's. This was previously evidenced above where the scatter plot also showed us these concentrations. According to this histogram, we can infer that most of the crimes are committed in areas with the 92100 zipcode. The most frequent zipcode with the most crimes within that zipcode was 92101!"
   ]
  },
  {
   "cell_type": "markdown",
   "metadata": {},
   "source": [
    "# Analysis\n",
    "After looking at the three data visualizations above and finding their respective means and modes, we can see some interesting trends:\n",
    "    1)Most crimes were committed in the areas with the following zipcode, 92101\n",
    "    2)The average rating across all parks was a 4.01, which is a decent rating for parks\n",
    "    3)Lastly, the scatterplot shows that there were more ratings and crimes in zipcodes from 92000- 92100\n",
    "\n",
    "Next I wanted to try linear predictive model to see if there is actually any underlying relationship in this bivariate data."
   ]
  },
  {
   "cell_type": "code",
   "execution_count": 212,
   "metadata": {},
   "outputs": [
    {
     "data": {
      "image/png": "[encoded data removed]",
      "text/plain": [
       "<Figure size 432x288 with 1 Axes>"
      ]
     },
     "metadata": {},
     "output_type": "display_data"
    }
   ],
   "source": [
    "#1-degree linear model\n",
    "(a1,b1) = np.polyfit(df['rating'], df['ZipCode'], 1)\n",
    "x = np.arange(1,6)\n",
    "pred_rating = a1*x+b1\n",
    "\n",
    "\n",
    "#\n",
    "plot = plt.scatter(df['rating'],df['ZipCode'])\n",
    "pred_line = plt.plot(x,pred_rating,color='red')\n",
    "\n",
    "\n",
    "f5 = plt.gcf()"
   ]
  },
  {
   "cell_type": "markdown",
   "metadata": {},
   "source": [
    "As we see above, with the data given we are not even able to create a red regression line because there is no trend. As a result, we can only make broad generalizations about the relationship between crimes and ratings. "
   ]
  },
  {
   "cell_type": "markdown",
   "metadata": {},
   "source": [
    "# Ethics & Privacy"
   ]
  },
  {
   "cell_type": "markdown",
   "metadata": {},
   "source": [
    "This project only used data that is already publicly accessible, which helps with any privacy issues. The data I used for the crimes is also available publicly. There is some harm that could be done with respect to the crime data because it has addresses attached to each crime; however, this data is accessible to anyone online and I ultimately removed addresses from the dataset during the data cleaning.\n",
    "\n",
    "My data might have potential biases where I am limited to the those with yelp to speak for any trend or relatioship that would be made. Ideally we would want to have data where everyone in the city of San Diego has given a rating on all the parks, but, again, we are limited to only those who actually have yelp accounts and gave a rating. Maybe we are leaving out those who do not have the technological means to be a part of this data? This limitation factor could definitely lead to bias in the data.  \n",
    "\n"
   ]
  },
  {
   "cell_type": "markdown",
   "metadata": {},
   "source": [
    "# Conclusion & Discussion"
   ]
  },
  {
   "cell_type": "markdown",
   "metadata": {},
   "source": [
    "In order to see if additional recreational facilities would have any affect on crime, I analyzed data that gave insight to people's overall satisfaction of the parks in San Diego, as well as the amount crime in those areas. If we were to see a trend where people gave poor ratings to the parks where there is a high level of crime, we could conclude that the addition of recreational facilities would not be used much. As previously mentioned in the prior work section, parks that are not used much can facilitate, and even foster more criminal activity.\n",
    "\n",
    "However, we cannot say for certainty that crime would decrease or increase with more recreational facilities. The data used was limited. If we had, for instance, data showing a considerable amount of crime being conducted at parks specifically, then we could say with a high level of confidence that adding more would lead to more crime. All in all, the data I was given could have been handled differently where I could have ran a TF-IDF on the yelp ratings to see why people gave certain ratings or I possibly could have done more spatial visualizations showing exaclty where the crime was being conducted; however, the time to conduct this analysis was limited and this still would only lead to infereces and generalizations. \n",
    "\n",
    "In summary, after a considerable amount of analyzing the data we can conclude that we cannot predict that additional recreational facilities would increase or decrease crime.\n",
    "\n"
   ]
  }
 ],
 "metadata": {
  "kernelspec": {
   "display_name": "Python 3",
   "language": "python",
   "name": "python3"
  },
  "language_info": {
   "codemirror_mode": {
    "name": "ipython",
    "version": 3
   },
   "file_extension": ".py",
   "mimetype": "text/x-python",
   "name": "python",
   "nbconvert_exporter": "python",
   "pygments_lexer": "ipython3",
   "version": "3.7.6"
  }
 },
 "nbformat": 4,
 "nbformat_minor": 2
}
